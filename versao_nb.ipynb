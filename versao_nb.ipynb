{
 "cells": [
  {
   "cell_type": "code",
   "execution_count": 1,
   "metadata": {},
   "outputs": [],
   "source": [
    "import sys\n",
    "import timeit\n",
    "import numpy as np\n",
    "import cv2\n"
   ]
  },
  {
   "cell_type": "code",
   "execution_count": 2,
   "metadata": {},
   "outputs": [],
   "source": [
    "INPUT_IMAGE =  'arroz.bmp'\n",
    "\n",
    "# TODO: ajuste estes parâmetros!\n",
    "NEGATIVO = False\n",
    "THRESHOLD = 0.4\n",
    "ALTURA_MIN = 1\n",
    "LARGURA_MIN = 1\n",
    "N_PIXELS_MIN = 1\n"
   ]
  },
  {
   "cell_type": "code",
   "execution_count": 8,
   "metadata": {},
   "outputs": [],
   "source": [
    "def binariza (img, threshold):\n",
    "    ''' Binarização simples por limiarização.\n",
    "\n",
    "    Parâmetros: img: imagem de entrada. Se tiver mais que 1 canal, binariza cada\n",
    "              canal independentemente.\n",
    "            threshold: limiar.\n",
    "            \n",
    "    Valor de retorno: versão binarizada da img_in.'''\n",
    "    imagem_binarizada = np.where(img>threshold,1,0).astype(np.float32)\n",
    "    \n",
    "    return imagem_binarizada\n",
    "    # TODO: escreva o código desta função.\n",
    "    # Dica/desafio: usando a função np.where, dá para fazer a binarização muito\n",
    "    # rapidamente, e com apenas uma linha de código!"
   ]
  },
  {
   "cell_type": "code",
   "execution_count": 9,
   "metadata": {},
   "outputs": [],
   "source": [
    "# Abre a imagem em escala de cinza.\n",
    "img = cv2.imread (INPUT_IMAGE, cv2.IMREAD_GRAYSCALE)\n",
    "if img is None:\n",
    "    print ('Erro abrindo a imagem.\\n')\n",
    "    sys.exit ()\n",
    "\n",
    "# É uma boa prática manter o shape com 3 valores, independente da imagem ser\n",
    "# colorida ou não. Também já convertemos para float32.\n",
    "img = img.reshape ((img.shape [0], img.shape [1], 1))\n",
    "img = img.astype (np.float32) / 255\n",
    "\n",
    "# Mantém uma cópia colorida para desenhar a saída.\n",
    "img_out = cv2.cvtColor (img, cv2.COLOR_GRAY2BGR)\n"
   ]
  },
  {
   "cell_type": "code",
   "execution_count": 12,
   "metadata": {},
   "outputs": [],
   "source": [
    "#Segmenta a imagem.\n",
    "if NEGATIVO:\n",
    "    img = 1 - img\n",
    "img = binariza (img, THRESHOLD)\n",
    "cv2.imshow ('01 - binarizada', img)\n",
    "cv2.imwrite ('01 - binarizada.png', img*255)\n",
    "cv2.waitKey ()\n",
    "cv2.destroyAllWindows ()"
   ]
  }
 ],
 "metadata": {
  "kernelspec": {
   "display_name": "venv",
   "language": "python",
   "name": "python3"
  },
  "language_info": {
   "codemirror_mode": {
    "name": "ipython",
    "version": 3
   },
   "file_extension": ".py",
   "mimetype": "text/x-python",
   "name": "python",
   "nbconvert_exporter": "python",
   "pygments_lexer": "ipython3",
   "version": "3.10.11"
  }
 },
 "nbformat": 4,
 "nbformat_minor": 2
}
